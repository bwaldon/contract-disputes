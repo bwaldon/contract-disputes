{
 "cells": [
  {
   "cell_type": "code",
   "execution_count": 40,
   "id": "986e7293",
   "metadata": {},
   "outputs": [],
   "source": [
    "import requests\n",
    "import pandas as pd\n",
    "import json"
   ]
  },
  {
   "cell_type": "code",
   "execution_count": 2,
   "id": "e78c60d0",
   "metadata": {},
   "outputs": [],
   "source": [
    "api_key = open(\"caselaw-key\", \"r\").read().strip()"
   ]
  },
  {
   "cell_type": "code",
   "execution_count": 32,
   "id": "a0bef348",
   "metadata": {},
   "outputs": [],
   "source": [
    "# Import a csv of headnotes as a pd dataframe\n",
    "# Drop last row, which is just a copyright footer from Reuters\n",
    "# wl-headnotes-sample.csv: 20 headnotes of type 143(2) - Existence of Ambiguity (Federal courts, prior to 2016)\n",
    "headnotes = pd.read_csv(\"wl-headnotes-sample.csv\")[:-1]"
   ]
  },
  {
   "cell_type": "code",
   "execution_count": 33,
   "id": "5354c89d",
   "metadata": {},
   "outputs": [
    {
     "data": {
      "text/plain": [
       "0      154 F.Supp.3d 189\n",
       "1      154 F.Supp.3d 189\n",
       "2      154 F.Supp.3d 189\n",
       "3      154 F.Supp.3d 453\n",
       "4      162 F.Supp.3d 200\n",
       "5      162 F.Supp.3d 200\n",
       "6     151 F.Supp.3d 1043\n",
       "7     151 F.Supp.3d 1294\n",
       "8     151 F.Supp.3d 1294\n",
       "9      150 F.Supp.3d 228\n",
       "10          807 F.3d 952\n",
       "11          550 B.R. 676\n",
       "12          550 B.R. 676\n",
       "13         806 F.3d 1217\n",
       "14          541 B.R. 259\n",
       "15          541 B.R. 259\n",
       "16     146 F.Supp.3d 972\n",
       "17     146 F.Supp.3d 568\n",
       "18     146 F.Supp.3d 568\n",
       "19          541 B.R. 467\n",
       "Name: Citation, dtype: object"
      ]
     },
     "execution_count": 33,
     "metadata": {},
     "output_type": "execute_result"
    }
   ],
   "source": [
    "# We'll use case citations pulled from WL to make our case.law search queries\n",
    "# (Citations, unlike docket #s are unique: see https://libguides.law.ucla.edu/citations)\n",
    "headnotes['Citation']"
   ]
  },
  {
   "cell_type": "code",
   "execution_count": 34,
   "id": "1f61339b",
   "metadata": {},
   "outputs": [
    {
     "data": {
      "text/plain": [
       "array(['154 F.Supp.3d 189', '154 F.Supp.3d 453', '162 F.Supp.3d 200',\n",
       "       '151 F.Supp.3d 1043', '151 F.Supp.3d 1294', '150 F.Supp.3d 228',\n",
       "       '807 F.3d 952', '550 B.R. 676', '806 F.3d 1217', '541 B.R. 259',\n",
       "       '146 F.Supp.3d 972', '146 F.Supp.3d 568', '541 B.R. 467'],\n",
       "      dtype=object)"
      ]
     },
     "execution_count": 34,
     "metadata": {},
     "output_type": "execute_result"
    }
   ],
   "source": [
    "# Note that a single case can be associated with multiple headnotes (incl. multiple headnotes of a single type)\n",
    "# So, make an array of unique citations \n",
    "citations = headnotes['Citation'].unique()\n",
    "citations"
   ]
  },
  {
   "cell_type": "code",
   "execution_count": 35,
   "id": "f5ea7d55",
   "metadata": {},
   "outputs": [],
   "source": [
    "# Make a 'results' dataframe with one column: citation (string) \n",
    "results = pd.DataFrame({'citation': citations})"
   ]
  },
  {
   "cell_type": "code",
   "execution_count": 85,
   "id": "22822614",
   "metadata": {},
   "outputs": [],
   "source": [
    "# Add a second column: response (string) (the result of the case.law API query)\n",
    "results[\"response\"] = results.apply(lambda x : requests.get(\n",
    "    'https://api.case.law/v1/cases/?cite={}&full_case=true'.format(x['citation']),\n",
    "    headers={'Authorization': \" \".join([\"Token\",api_key])}\n",
    ")._content.decode('UTF-8'), axis = 1)"
   ]
  },
  {
   "cell_type": "code",
   "execution_count": 86,
   "id": "50c005a9",
   "metadata": {},
   "outputs": [],
   "source": [
    "# Add a third column: opinion (string) (the plain text of the opinion, as extracted from 'response')\n",
    "results[\"opinion\"] = results.apply(lambda x : json.loads(x[\"response\"])['results'][0]['casebody']['data']['opinions'],\n",
    "                                   axis = 1)"
   ]
  },
  {
   "cell_type": "code",
   "execution_count": 87,
   "id": "1a224771",
   "metadata": {},
   "outputs": [
    {
     "data": {
      "text/html": [
       "<div>\n",
       "<style scoped>\n",
       "    .dataframe tbody tr th:only-of-type {\n",
       "        vertical-align: middle;\n",
       "    }\n",
       "\n",
       "    .dataframe tbody tr th {\n",
       "        vertical-align: top;\n",
       "    }\n",
       "\n",
       "    .dataframe thead th {\n",
       "        text-align: right;\n",
       "    }\n",
       "</style>\n",
       "<table border=\"1\" class=\"dataframe\">\n",
       "  <thead>\n",
       "    <tr style=\"text-align: right;\">\n",
       "      <th></th>\n",
       "      <th>citation</th>\n",
       "      <th>response</th>\n",
       "      <th>opinion</th>\n",
       "    </tr>\n",
       "  </thead>\n",
       "  <tbody>\n",
       "    <tr>\n",
       "      <th>0</th>\n",
       "      <td>154 F.Supp.3d 189</td>\n",
       "      <td>{\"count\":1,\"next\":null,\"previous\":null,\"result...</td>\n",
       "      <td>[{'author': 'Cathy Bissoon, United States Dist...</td>\n",
       "    </tr>\n",
       "    <tr>\n",
       "      <th>1</th>\n",
       "      <td>154 F.Supp.3d 453</td>\n",
       "      <td>{\"count\":1,\"next\":null,\"previous\":null,\"result...</td>\n",
       "      <td>[{'author': 'David Alan Ezra, Senior United St...</td>\n",
       "    </tr>\n",
       "    <tr>\n",
       "      <th>2</th>\n",
       "      <td>162 F.Supp.3d 200</td>\n",
       "      <td>{\"count\":1,\"next\":null,\"previous\":null,\"result...</td>\n",
       "      <td>[{'author': 'SHIRAA. SCHEINDLIN, UNITED STATES...</td>\n",
       "    </tr>\n",
       "    <tr>\n",
       "      <th>3</th>\n",
       "      <td>151 F.Supp.3d 1043</td>\n",
       "      <td>{\"count\":1,\"next\":null,\"previous\":null,\"result...</td>\n",
       "      <td>[{'author': 'Neil V. Wake, United States Distr...</td>\n",
       "    </tr>\n",
       "    <tr>\n",
       "      <th>4</th>\n",
       "      <td>151 F.Supp.3d 1294</td>\n",
       "      <td>{\"count\":1,\"next\":null,\"previous\":null,\"result...</td>\n",
       "      <td>[{'author': 'PAUL G..BYRON, UNITED STATES DIST...</td>\n",
       "    </tr>\n",
       "    <tr>\n",
       "      <th>5</th>\n",
       "      <td>150 F.Supp.3d 228</td>\n",
       "      <td>{\"count\":1,\"next\":null,\"previous\":null,\"result...</td>\n",
       "      <td>[{'author': 'SPATT, District Judge.', 'text': ...</td>\n",
       "    </tr>\n",
       "    <tr>\n",
       "      <th>6</th>\n",
       "      <td>807 F.3d 952</td>\n",
       "      <td>{\"count\":1,\"next\":null,\"previous\":null,\"result...</td>\n",
       "      <td>[{'author': 'LOKEN, Circuit Judge.', 'text': '...</td>\n",
       "    </tr>\n",
       "    <tr>\n",
       "      <th>7</th>\n",
       "      <td>550 B.R. 676</td>\n",
       "      <td>{\"count\":1,\"next\":null,\"previous\":null,\"result...</td>\n",
       "      <td>[{'author': 'Shira A. Scheindlin, U.S.D.J.:', ...</td>\n",
       "    </tr>\n",
       "    <tr>\n",
       "      <th>8</th>\n",
       "      <td>806 F.3d 1217</td>\n",
       "      <td>{\"count\":1,\"next\":null,\"previous\":null,\"result...</td>\n",
       "      <td>[{'author': 'MOLLOY, Senior District Judge:', ...</td>\n",
       "    </tr>\n",
       "    <tr>\n",
       "      <th>9</th>\n",
       "      <td>541 B.R. 259</td>\n",
       "      <td>{\"count\":1,\"next\":null,\"previous\":null,\"result...</td>\n",
       "      <td>[{'author': 'ERIC L. FRANK, CHIEF U.S. BANKRUP...</td>\n",
       "    </tr>\n",
       "    <tr>\n",
       "      <th>10</th>\n",
       "      <td>146 F.Supp.3d 972</td>\n",
       "      <td>{\"count\":1,\"next\":null,\"previous\":null,\"result...</td>\n",
       "      <td>[{'author': 'Joan B. Gottschall, United States...</td>\n",
       "    </tr>\n",
       "    <tr>\n",
       "      <th>11</th>\n",
       "      <td>146 F.Supp.3d 568</td>\n",
       "      <td>{\"count\":1,\"next\":null,\"previous\":null,\"result...</td>\n",
       "      <td>[{'author': 'DENISE COTE, United States Distri...</td>\n",
       "    </tr>\n",
       "    <tr>\n",
       "      <th>12</th>\n",
       "      <td>541 B.R. 467</td>\n",
       "      <td>{\"count\":1,\"next\":null,\"previous\":null,\"result...</td>\n",
       "      <td>[{'author': 'Roger L. Efremsky, U.S. Bankruptc...</td>\n",
       "    </tr>\n",
       "  </tbody>\n",
       "</table>\n",
       "</div>"
      ],
      "text/plain": [
       "              citation                                           response  \\\n",
       "0    154 F.Supp.3d 189  {\"count\":1,\"next\":null,\"previous\":null,\"result...   \n",
       "1    154 F.Supp.3d 453  {\"count\":1,\"next\":null,\"previous\":null,\"result...   \n",
       "2    162 F.Supp.3d 200  {\"count\":1,\"next\":null,\"previous\":null,\"result...   \n",
       "3   151 F.Supp.3d 1043  {\"count\":1,\"next\":null,\"previous\":null,\"result...   \n",
       "4   151 F.Supp.3d 1294  {\"count\":1,\"next\":null,\"previous\":null,\"result...   \n",
       "5    150 F.Supp.3d 228  {\"count\":1,\"next\":null,\"previous\":null,\"result...   \n",
       "6         807 F.3d 952  {\"count\":1,\"next\":null,\"previous\":null,\"result...   \n",
       "7         550 B.R. 676  {\"count\":1,\"next\":null,\"previous\":null,\"result...   \n",
       "8        806 F.3d 1217  {\"count\":1,\"next\":null,\"previous\":null,\"result...   \n",
       "9         541 B.R. 259  {\"count\":1,\"next\":null,\"previous\":null,\"result...   \n",
       "10   146 F.Supp.3d 972  {\"count\":1,\"next\":null,\"previous\":null,\"result...   \n",
       "11   146 F.Supp.3d 568  {\"count\":1,\"next\":null,\"previous\":null,\"result...   \n",
       "12        541 B.R. 467  {\"count\":1,\"next\":null,\"previous\":null,\"result...   \n",
       "\n",
       "                                              opinion  \n",
       "0   [{'author': 'Cathy Bissoon, United States Dist...  \n",
       "1   [{'author': 'David Alan Ezra, Senior United St...  \n",
       "2   [{'author': 'SHIRAA. SCHEINDLIN, UNITED STATES...  \n",
       "3   [{'author': 'Neil V. Wake, United States Distr...  \n",
       "4   [{'author': 'PAUL G..BYRON, UNITED STATES DIST...  \n",
       "5   [{'author': 'SPATT, District Judge.', 'text': ...  \n",
       "6   [{'author': 'LOKEN, Circuit Judge.', 'text': '...  \n",
       "7   [{'author': 'Shira A. Scheindlin, U.S.D.J.:', ...  \n",
       "8   [{'author': 'MOLLOY, Senior District Judge:', ...  \n",
       "9   [{'author': 'ERIC L. FRANK, CHIEF U.S. BANKRUP...  \n",
       "10  [{'author': 'Joan B. Gottschall, United States...  \n",
       "11  [{'author': 'DENISE COTE, United States Distri...  \n",
       "12  [{'author': 'Roger L. Efremsky, U.S. Bankruptc...  "
      ]
     },
     "execution_count": 87,
     "metadata": {},
     "output_type": "execute_result"
    }
   ],
   "source": [
    "results"
   ]
  },
  {
   "cell_type": "code",
   "execution_count": 89,
   "id": "fff2dcb4",
   "metadata": {},
   "outputs": [],
   "source": [
    "results.to_csv(\"caselaw-fetch-results.csv\")"
   ]
  }
 ],
 "metadata": {
  "kernelspec": {
   "display_name": "contract-disputes",
   "language": "python",
   "name": "contract-disputes"
  },
  "language_info": {
   "codemirror_mode": {
    "name": "ipython",
    "version": 3
   },
   "file_extension": ".py",
   "mimetype": "text/x-python",
   "name": "python",
   "nbconvert_exporter": "python",
   "pygments_lexer": "ipython3",
   "version": "3.11.5"
  }
 },
 "nbformat": 4,
 "nbformat_minor": 5
}
